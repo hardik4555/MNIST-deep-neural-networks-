{
  "nbformat": 4,
  "nbformat_minor": 0,
  "metadata": {
    "colab": {
      "provenance": [],
      "authorship_tag": "ABX9TyOojWYZELQ/9Ol1ZqirQo6I",
      "include_colab_link": true
    },
    "kernelspec": {
      "name": "python3",
      "display_name": "Python 3"
    },
    "language_info": {
      "name": "python"
    },
    "widgets": {
      "application/vnd.jupyter.widget-state+json": {
        "43afca4257c348d5a3b40f7f7f132e90": {
          "model_module": "@jupyter-widgets/controls",
          "model_name": "HBoxModel",
          "model_module_version": "1.5.0",
          "state": {
            "_dom_classes": [],
            "_model_module": "@jupyter-widgets/controls",
            "_model_module_version": "1.5.0",
            "_model_name": "HBoxModel",
            "_view_count": null,
            "_view_module": "@jupyter-widgets/controls",
            "_view_module_version": "1.5.0",
            "_view_name": "HBoxView",
            "box_style": "",
            "children": [
              "IPY_MODEL_f7886136281548fab5f3eca37e8137be",
              "IPY_MODEL_4d6ac217d2234d0f96833b9f15e48653",
              "IPY_MODEL_b0c47e80725b4fc78e61f9410efd7cfe"
            ],
            "layout": "IPY_MODEL_f1cc56c8dd7a4dd9a35668f767249fa8"
          }
        },
        "f7886136281548fab5f3eca37e8137be": {
          "model_module": "@jupyter-widgets/controls",
          "model_name": "HTMLModel",
          "model_module_version": "1.5.0",
          "state": {
            "_dom_classes": [],
            "_model_module": "@jupyter-widgets/controls",
            "_model_module_version": "1.5.0",
            "_model_name": "HTMLModel",
            "_view_count": null,
            "_view_module": "@jupyter-widgets/controls",
            "_view_module_version": "1.5.0",
            "_view_name": "HTMLView",
            "description": "",
            "description_tooltip": null,
            "layout": "IPY_MODEL_465223a9b5b94c67a36ec2178624ba78",
            "placeholder": "​",
            "style": "IPY_MODEL_465550beb2854ff9946a96215864436c",
            "value": "Dl Completed...: 100%"
          }
        },
        "4d6ac217d2234d0f96833b9f15e48653": {
          "model_module": "@jupyter-widgets/controls",
          "model_name": "FloatProgressModel",
          "model_module_version": "1.5.0",
          "state": {
            "_dom_classes": [],
            "_model_module": "@jupyter-widgets/controls",
            "_model_module_version": "1.5.0",
            "_model_name": "FloatProgressModel",
            "_view_count": null,
            "_view_module": "@jupyter-widgets/controls",
            "_view_module_version": "1.5.0",
            "_view_name": "ProgressView",
            "bar_style": "success",
            "description": "",
            "description_tooltip": null,
            "layout": "IPY_MODEL_1de7dd2484184b0786448663a5da97f7",
            "max": 5,
            "min": 0,
            "orientation": "horizontal",
            "style": "IPY_MODEL_ce1c8731bcc5489fb7d25b6cb6b4c926",
            "value": 5
          }
        },
        "b0c47e80725b4fc78e61f9410efd7cfe": {
          "model_module": "@jupyter-widgets/controls",
          "model_name": "HTMLModel",
          "model_module_version": "1.5.0",
          "state": {
            "_dom_classes": [],
            "_model_module": "@jupyter-widgets/controls",
            "_model_module_version": "1.5.0",
            "_model_name": "HTMLModel",
            "_view_count": null,
            "_view_module": "@jupyter-widgets/controls",
            "_view_module_version": "1.5.0",
            "_view_name": "HTMLView",
            "description": "",
            "description_tooltip": null,
            "layout": "IPY_MODEL_79ee42b1945c458d917fcdc88e6b05e5",
            "placeholder": "​",
            "style": "IPY_MODEL_07dd97c25cc144bf9a9f14c8ecc3f4f6",
            "value": " 5/5 [00:00&lt;00:00, 12.77 file/s]"
          }
        },
        "f1cc56c8dd7a4dd9a35668f767249fa8": {
          "model_module": "@jupyter-widgets/base",
          "model_name": "LayoutModel",
          "model_module_version": "1.2.0",
          "state": {
            "_model_module": "@jupyter-widgets/base",
            "_model_module_version": "1.2.0",
            "_model_name": "LayoutModel",
            "_view_count": null,
            "_view_module": "@jupyter-widgets/base",
            "_view_module_version": "1.2.0",
            "_view_name": "LayoutView",
            "align_content": null,
            "align_items": null,
            "align_self": null,
            "border": null,
            "bottom": null,
            "display": null,
            "flex": null,
            "flex_flow": null,
            "grid_area": null,
            "grid_auto_columns": null,
            "grid_auto_flow": null,
            "grid_auto_rows": null,
            "grid_column": null,
            "grid_gap": null,
            "grid_row": null,
            "grid_template_areas": null,
            "grid_template_columns": null,
            "grid_template_rows": null,
            "height": null,
            "justify_content": null,
            "justify_items": null,
            "left": null,
            "margin": null,
            "max_height": null,
            "max_width": null,
            "min_height": null,
            "min_width": null,
            "object_fit": null,
            "object_position": null,
            "order": null,
            "overflow": null,
            "overflow_x": null,
            "overflow_y": null,
            "padding": null,
            "right": null,
            "top": null,
            "visibility": null,
            "width": null
          }
        },
        "465223a9b5b94c67a36ec2178624ba78": {
          "model_module": "@jupyter-widgets/base",
          "model_name": "LayoutModel",
          "model_module_version": "1.2.0",
          "state": {
            "_model_module": "@jupyter-widgets/base",
            "_model_module_version": "1.2.0",
            "_model_name": "LayoutModel",
            "_view_count": null,
            "_view_module": "@jupyter-widgets/base",
            "_view_module_version": "1.2.0",
            "_view_name": "LayoutView",
            "align_content": null,
            "align_items": null,
            "align_self": null,
            "border": null,
            "bottom": null,
            "display": null,
            "flex": null,
            "flex_flow": null,
            "grid_area": null,
            "grid_auto_columns": null,
            "grid_auto_flow": null,
            "grid_auto_rows": null,
            "grid_column": null,
            "grid_gap": null,
            "grid_row": null,
            "grid_template_areas": null,
            "grid_template_columns": null,
            "grid_template_rows": null,
            "height": null,
            "justify_content": null,
            "justify_items": null,
            "left": null,
            "margin": null,
            "max_height": null,
            "max_width": null,
            "min_height": null,
            "min_width": null,
            "object_fit": null,
            "object_position": null,
            "order": null,
            "overflow": null,
            "overflow_x": null,
            "overflow_y": null,
            "padding": null,
            "right": null,
            "top": null,
            "visibility": null,
            "width": null
          }
        },
        "465550beb2854ff9946a96215864436c": {
          "model_module": "@jupyter-widgets/controls",
          "model_name": "DescriptionStyleModel",
          "model_module_version": "1.5.0",
          "state": {
            "_model_module": "@jupyter-widgets/controls",
            "_model_module_version": "1.5.0",
            "_model_name": "DescriptionStyleModel",
            "_view_count": null,
            "_view_module": "@jupyter-widgets/base",
            "_view_module_version": "1.2.0",
            "_view_name": "StyleView",
            "description_width": ""
          }
        },
        "1de7dd2484184b0786448663a5da97f7": {
          "model_module": "@jupyter-widgets/base",
          "model_name": "LayoutModel",
          "model_module_version": "1.2.0",
          "state": {
            "_model_module": "@jupyter-widgets/base",
            "_model_module_version": "1.2.0",
            "_model_name": "LayoutModel",
            "_view_count": null,
            "_view_module": "@jupyter-widgets/base",
            "_view_module_version": "1.2.0",
            "_view_name": "LayoutView",
            "align_content": null,
            "align_items": null,
            "align_self": null,
            "border": null,
            "bottom": null,
            "display": null,
            "flex": null,
            "flex_flow": null,
            "grid_area": null,
            "grid_auto_columns": null,
            "grid_auto_flow": null,
            "grid_auto_rows": null,
            "grid_column": null,
            "grid_gap": null,
            "grid_row": null,
            "grid_template_areas": null,
            "grid_template_columns": null,
            "grid_template_rows": null,
            "height": null,
            "justify_content": null,
            "justify_items": null,
            "left": null,
            "margin": null,
            "max_height": null,
            "max_width": null,
            "min_height": null,
            "min_width": null,
            "object_fit": null,
            "object_position": null,
            "order": null,
            "overflow": null,
            "overflow_x": null,
            "overflow_y": null,
            "padding": null,
            "right": null,
            "top": null,
            "visibility": null,
            "width": null
          }
        },
        "ce1c8731bcc5489fb7d25b6cb6b4c926": {
          "model_module": "@jupyter-widgets/controls",
          "model_name": "ProgressStyleModel",
          "model_module_version": "1.5.0",
          "state": {
            "_model_module": "@jupyter-widgets/controls",
            "_model_module_version": "1.5.0",
            "_model_name": "ProgressStyleModel",
            "_view_count": null,
            "_view_module": "@jupyter-widgets/base",
            "_view_module_version": "1.2.0",
            "_view_name": "StyleView",
            "bar_color": null,
            "description_width": ""
          }
        },
        "79ee42b1945c458d917fcdc88e6b05e5": {
          "model_module": "@jupyter-widgets/base",
          "model_name": "LayoutModel",
          "model_module_version": "1.2.0",
          "state": {
            "_model_module": "@jupyter-widgets/base",
            "_model_module_version": "1.2.0",
            "_model_name": "LayoutModel",
            "_view_count": null,
            "_view_module": "@jupyter-widgets/base",
            "_view_module_version": "1.2.0",
            "_view_name": "LayoutView",
            "align_content": null,
            "align_items": null,
            "align_self": null,
            "border": null,
            "bottom": null,
            "display": null,
            "flex": null,
            "flex_flow": null,
            "grid_area": null,
            "grid_auto_columns": null,
            "grid_auto_flow": null,
            "grid_auto_rows": null,
            "grid_column": null,
            "grid_gap": null,
            "grid_row": null,
            "grid_template_areas": null,
            "grid_template_columns": null,
            "grid_template_rows": null,
            "height": null,
            "justify_content": null,
            "justify_items": null,
            "left": null,
            "margin": null,
            "max_height": null,
            "max_width": null,
            "min_height": null,
            "min_width": null,
            "object_fit": null,
            "object_position": null,
            "order": null,
            "overflow": null,
            "overflow_x": null,
            "overflow_y": null,
            "padding": null,
            "right": null,
            "top": null,
            "visibility": null,
            "width": null
          }
        },
        "07dd97c25cc144bf9a9f14c8ecc3f4f6": {
          "model_module": "@jupyter-widgets/controls",
          "model_name": "DescriptionStyleModel",
          "model_module_version": "1.5.0",
          "state": {
            "_model_module": "@jupyter-widgets/controls",
            "_model_module_version": "1.5.0",
            "_model_name": "DescriptionStyleModel",
            "_view_count": null,
            "_view_module": "@jupyter-widgets/base",
            "_view_module_version": "1.2.0",
            "_view_name": "StyleView",
            "description_width": ""
          }
        }
      }
    }
  },
  "cells": [
    {
      "cell_type": "markdown",
      "metadata": {
        "id": "view-in-github",
        "colab_type": "text"
      },
      "source": [
        "<a href=\"https://colab.research.google.com/github/hardik4555/MNIST-deep-neural-networks-/blob/main/mnist_recognition.ipynb\" target=\"_parent\"><img src=\"https://colab.research.google.com/assets/colab-badge.svg\" alt=\"Open In Colab\"/></a>"
      ]
    },
    {
      "cell_type": "markdown",
      "source": [
        "**Import relevant** **Packages**"
      ],
      "metadata": {
        "id": "4cxKTFIt0t-1"
      }
    },
    {
      "cell_type": "code",
      "source": [
        "import numpy as np\n",
        "import tensorflow as tf\n",
        "import tensorflow_datasets as tfds"
      ],
      "metadata": {
        "id": "VUdM3FxA06ln"
      },
      "execution_count": null,
      "outputs": []
    },
    {
      "cell_type": "markdown",
      "source": [
        "**Data**"
      ],
      "metadata": {
        "id": "N75ZiS3a1DOw"
      }
    },
    {
      "cell_type": "code",
      "source": [
        "mnist_dataset, mnist_info=tfds.load(name='mnist',with_info=True, as_supervised=True)\n",
        "# mnist_train, mnist_test= mnist_dataset['train'], mnist_dataset['test']\n",
        "#as_supervised load the data in a 2-tuple structure [input, target]\n",
        "#with_info contains information about the dataset"
      ],
      "metadata": {
        "colab": {
          "base_uri": "https://localhost:8080/",
          "height": 104,
          "referenced_widgets": [
            "43afca4257c348d5a3b40f7f7f132e90",
            "f7886136281548fab5f3eca37e8137be",
            "4d6ac217d2234d0f96833b9f15e48653",
            "b0c47e80725b4fc78e61f9410efd7cfe",
            "f1cc56c8dd7a4dd9a35668f767249fa8",
            "465223a9b5b94c67a36ec2178624ba78",
            "465550beb2854ff9946a96215864436c",
            "1de7dd2484184b0786448663a5da97f7",
            "ce1c8731bcc5489fb7d25b6cb6b4c926",
            "79ee42b1945c458d917fcdc88e6b05e5",
            "07dd97c25cc144bf9a9f14c8ecc3f4f6"
          ]
        },
        "id": "QibZpqJA1GeN",
        "outputId": "ad6c0cb9-4e85-4c66-f594-5bde48e209cc"
      },
      "execution_count": null,
      "outputs": [
        {
          "output_type": "stream",
          "name": "stdout",
          "text": [
            "Downloading and preparing dataset 11.06 MiB (download: 11.06 MiB, generated: 21.00 MiB, total: 32.06 MiB) to /root/tensorflow_datasets/mnist/3.0.1...\n"
          ]
        },
        {
          "output_type": "display_data",
          "data": {
            "text/plain": [
              "Dl Completed...:   0%|          | 0/5 [00:00<?, ? file/s]"
            ],
            "application/vnd.jupyter.widget-view+json": {
              "version_major": 2,
              "version_minor": 0,
              "model_id": "43afca4257c348d5a3b40f7f7f132e90"
            }
          },
          "metadata": {}
        },
        {
          "output_type": "stream",
          "name": "stdout",
          "text": [
            "Dataset mnist downloaded and prepared to /root/tensorflow_datasets/mnist/3.0.1. Subsequent calls will reuse this data.\n"
          ]
        }
      ]
    },
    {
      "cell_type": "code",
      "source": [
        "mnist_train, mnist_test= mnist_dataset['train'], mnist_dataset['test']"
      ],
      "metadata": {
        "id": "gzh3nJH9144E"
      },
      "execution_count": null,
      "outputs": []
    },
    {
      "cell_type": "code",
      "source": [
        "num_validation_samples=0.1*mnist_info.splits['train'].num_examples\n",
        "num_validation_samples= tf.cast(num_validation_samples, tf.int64)\n",
        "num_test_samples=mnist_info.splits['test'].num_examples\n",
        "num_test_samples=tf.cast(num_test_samples, tf.int64)\n",
        "#tf.cast(x,dtype) casts a variable into a given datatype\n",
        "\n",
        "def scale(image, label):\n",
        "  image=tf.cast(image, tf.float32)\n",
        "  image/=255\n",
        "  return image, label\n",
        "\n",
        "scaled_train_and_validation_data=mnist_train.map(scale)\n",
        "test_data=mnist_test.map(scale)\n",
        "BUFFER_SIZE=10000\n",
        "shuffled_train_and_validation_data= scaled_train_and_validation_data.shuffle(BUFFER_SIZE)\n",
        "validation_data=shuffled_train_and_validation_data.take(num_validation_samples)\n",
        "train_data=shuffled_train_and_validation_data.skip(num_validation_samples)\n",
        "\n",
        "#batch size=1 = stochatic gradient descent\n",
        "#batch size=#sample single batch gradient descent\n",
        "#batch size < #sample mini-batch gradient descent\n",
        "\n",
        "BATCH_SIZE=100\n",
        "train_data=train_data.batch(BATCH_SIZE)\n",
        "\n",
        "test_data = test_data.batch(BATCH_SIZE)\n",
        "\n",
        "validation_data=validation_data.batch(num_validation_samples) #batch size=sample size\n",
        "validation_inputs, validation_targets= next(iter(validation_data))\n",
        "#as we only forward propagate a validation data we dont need batches"
      ],
      "metadata": {
        "id": "wM6QQuG72QVQ"
      },
      "execution_count": null,
      "outputs": []
    },
    {
      "cell_type": "markdown",
      "source": [
        "**Model**"
      ],
      "metadata": {
        "id": "eLgi3Ueu75Lp"
      }
    },
    {
      "cell_type": "code",
      "source": [
        "input_size=784\n",
        "output_size=10\n",
        "hidden_layer_size=200\n",
        "model=tf.keras.Sequential([\n",
        "    tf.keras.layers.Flatten(input_shape=(28,28,1)), #converting a 3d tensor into 1d vector -> if colored photo we would have written input_size as  (28*28*3)\n",
        "    tf.keras.layers.Dense(hidden_layer_size, activation='relu'),\n",
        "    tf.keras.layers.Dense(hidden_layer_size, activation='relu'),\n",
        "    tf.keras.layers.Dense(hidden_layer_size, activation='relu'),\n",
        "    tf.keras.layers.Dense(output_size, activation='softmax')\n",
        "])"
      ],
      "metadata": {
        "id": "OgUjqExk59B6"
      },
      "execution_count": null,
      "outputs": []
    },
    {
      "cell_type": "markdown",
      "source": [
        "**choose the optimizer and the loss function**"
      ],
      "metadata": {
        "id": "C4PKt9mu9qtB"
      }
    },
    {
      "cell_type": "code",
      "source": [
        "model.compile(optimizer='adam', loss='sparse_categorical_crossentropy', metrics=['accuracy'])"
      ],
      "metadata": {
        "id": "-3ThH7Qj911h"
      },
      "execution_count": null,
      "outputs": []
    },
    {
      "cell_type": "markdown",
      "source": [
        "**training**"
      ],
      "metadata": {
        "id": "TWve8hF_-_Ch"
      }
    },
    {
      "cell_type": "code",
      "source": [
        "NUM_EPOCHS=10\n",
        "model.fit(train_data, epochs=NUM_EPOCHS, validation_data=(validation_inputs, validation_targets), verbose=2)"
      ],
      "metadata": {
        "colab": {
          "base_uri": "https://localhost:8080/"
        },
        "id": "VMht4XHa-94z",
        "outputId": "6fca22ec-d700-4348-90cf-29a7b1d88c8c"
      },
      "execution_count": null,
      "outputs": [
        {
          "output_type": "stream",
          "name": "stdout",
          "text": [
            "Epoch 1/10\n",
            "540/540 - 14s - loss: 0.2642 - accuracy: 0.9221 - val_loss: 0.1289 - val_accuracy: 0.9605 - 14s/epoch - 26ms/step\n",
            "Epoch 2/10\n",
            "540/540 - 11s - loss: 0.1024 - accuracy: 0.9682 - val_loss: 0.0745 - val_accuracy: 0.9763 - 11s/epoch - 21ms/step\n",
            "Epoch 3/10\n",
            "540/540 - 6s - loss: 0.0685 - accuracy: 0.9784 - val_loss: 0.0668 - val_accuracy: 0.9792 - 6s/epoch - 12ms/step\n",
            "Epoch 4/10\n",
            "540/540 - 7s - loss: 0.0537 - accuracy: 0.9821 - val_loss: 0.0721 - val_accuracy: 0.9768 - 7s/epoch - 13ms/step\n",
            "Epoch 5/10\n",
            "540/540 - 7s - loss: 0.0424 - accuracy: 0.9864 - val_loss: 0.0378 - val_accuracy: 0.9882 - 7s/epoch - 13ms/step\n",
            "Epoch 6/10\n",
            "540/540 - 7s - loss: 0.0335 - accuracy: 0.9890 - val_loss: 0.0423 - val_accuracy: 0.9863 - 7s/epoch - 13ms/step\n",
            "Epoch 7/10\n",
            "540/540 - 7s - loss: 0.0299 - accuracy: 0.9908 - val_loss: 0.0458 - val_accuracy: 0.9847 - 7s/epoch - 13ms/step\n",
            "Epoch 8/10\n",
            "540/540 - 6s - loss: 0.0272 - accuracy: 0.9912 - val_loss: 0.0354 - val_accuracy: 0.9878 - 6s/epoch - 12ms/step\n",
            "Epoch 9/10\n",
            "540/540 - 7s - loss: 0.0195 - accuracy: 0.9933 - val_loss: 0.0229 - val_accuracy: 0.9923 - 7s/epoch - 12ms/step\n",
            "Epoch 10/10\n",
            "540/540 - 7s - loss: 0.0211 - accuracy: 0.9934 - val_loss: 0.0376 - val_accuracy: 0.9887 - 7s/epoch - 14ms/step\n"
          ]
        },
        {
          "output_type": "execute_result",
          "data": {
            "text/plain": [
              "<keras.src.callbacks.History at 0x7d1ecd7a0a90>"
            ]
          },
          "metadata": {},
          "execution_count": 7
        }
      ]
    },
    {
      "cell_type": "markdown",
      "source": [
        "**Test the model**"
      ],
      "metadata": {
        "id": "HyJiyuaUBRIo"
      }
    },
    {
      "cell_type": "code",
      "source": [
        "test_loss, test_accuracy= model.evaluate(test_data)"
      ],
      "metadata": {
        "colab": {
          "base_uri": "https://localhost:8080/"
        },
        "id": "FjICc3b3BUZW",
        "outputId": "fa12c966-026f-4d8c-dfd7-f5fd8b828a5f"
      },
      "execution_count": null,
      "outputs": [
        {
          "output_type": "stream",
          "name": "stdout",
          "text": [
            "100/100 [==============================] - 1s 11ms/step - loss: 0.0939 - accuracy: 0.9763\n"
          ]
        }
      ]
    }
  ]
}